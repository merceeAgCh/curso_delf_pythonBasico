
# Operaciones aritméticas
# suma
print(2+3)
a = 2
b=10
sum=a+b
print('El resultlado de la suma es: ', sum)
#resta
res=a-b
print("El resultado de la resta es:", res)
# multiplicacion
f1=4
f2=16
res=f1*f2
print("El resaultado es: ", type(res), res)
# divisiones
div1 =10
divisor=2
cociente= div1/divisor
print("El resultado es: ", type(cociente), cociente)
#potencias
base = 3
exponente = 4
resultadito=base**exponente
print("La potencia es:", type(resultadito), resultadito)
# raiz
radicando = 8
raiz = radicando ** (1/2) #se eleva a la potencia de acuerdo a la raiz que se requiera
print("La raiz es:", raiz,type(raiz))

#Sean a = 3, b = 4 y c = 5, escriba un código de python que calcule lo siguiente:
#$$ r = \sqrt{a^2 + 3\cdot c - 5 / b}$$
#Ejercicio
a = 3
b = 4
c = 5
res = (a**2 + 3*c -5 / b) **(1/2)
#res = (a**2 + 3*c -5 / b) **(0.5)
print("El resultado es:", res, type(res))