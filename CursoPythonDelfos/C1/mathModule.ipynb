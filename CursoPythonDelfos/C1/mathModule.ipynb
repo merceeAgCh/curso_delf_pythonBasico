{
 "cells": [
  {
   "cell_type": "code",
   "execution_count": 1,
   "metadata": {},
   "outputs": [
    {
     "name": "stdout",
     "output_type": "stream",
     "text": [
      "hola\n"
     ]
    }
   ],
   "source": [
    "print(\"hola\")"
   ]
  },
  {
   "cell_type": "code",
   "execution_count": 2,
   "metadata": {},
   "outputs": [
    {
     "name": "stdout",
     "output_type": "stream",
     "text": [
      "El resultado:  8.0 El tipo de dato es:  <class 'float'>\n"
     ]
    }
   ],
   "source": [
    "# modulo math\n",
    "import math\n",
    "\n",
    "base = 2 \n",
    "exponente = 3\n",
    "res = math.pow(base,exponente)\n",
    "print(\"El resultado: \", res, \"El tipo de dato es: \", type(res))"
   ]
  },
  {
   "cell_type": "code",
   "execution_count": 2,
   "metadata": {},
   "outputs": [
    {
     "name": "stdout",
     "output_type": "stream",
     "text": [
      "Radical:  2.0 Tipo de dato:  <class 'float'>\n"
     ]
    }
   ],
   "source": [
    "# raíz cuadrada\n",
    "import math\n",
    "\n",
    "radicando = 4\n",
    "radical = math.sqrt(radicando)\n",
    "print(\"Radical: \", radical, \"Tipo de dato: \", type(radical))"
   ]
  },
  {
   "cell_type": "code",
   "execution_count": 4,
   "metadata": {},
   "outputs": [
    {
     "name": "stdout",
     "output_type": "stream",
     "text": [
      "3.141592653589793\n"
     ]
    }
   ],
   "source": [
    "# constantes con math\n",
    "import math\n",
    "pi = math.pi\n",
    "print(pi)"
   ]
  },
  {
   "cell_type": "code",
   "execution_count": 5,
   "metadata": {},
   "outputs": [
    {
     "name": "stdout",
     "output_type": "stream",
     "text": [
      "2.718281828459045\n"
     ]
    }
   ],
   "source": [
    "import math\n",
    "e = math.e\n",
    "print(e)"
   ]
  },
  {
   "cell_type": "code",
   "execution_count": 2,
   "metadata": {},
   "outputs": [
    {
     "name": "stdout",
     "output_type": "stream",
     "text": [
      "De radianes a grados:  180.0 De grados a radianes:  3.141592653589793\n"
     ]
    }
   ],
   "source": [
    "import math\n",
    "grados_180 = 180\n",
    "pi=math.pi\n",
    "pi_grados = math.degrees(pi)\n",
    "pi_radianes = math.radians(grados_180)\n",
    "\n",
    "print(\"De radianes a grados: \", pi_grados, \"De grados a radianes: \", pi_radianes)"
   ]
  }
 ],
 "metadata": {
  "kernelspec": {
   "display_name": "Python 3",
   "language": "python",
   "name": "python3"
  },
  "language_info": {
   "codemirror_mode": {
    "name": "ipython",
    "version": 3
   },
   "file_extension": ".py",
   "mimetype": "text/x-python",
   "name": "python",
   "nbconvert_exporter": "python",
   "pygments_lexer": "ipython3",
   "version": "0.0.0"
  }
 },
 "nbformat": 4,
 "nbformat_minor": 2
}
