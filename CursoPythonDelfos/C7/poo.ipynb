{
 "cells": [
  {
   "cell_type": "markdown",
   "metadata": {},
   "source": [
    "POO (programación orientada a iobjetos)\n"
   ]
  },
  {
   "cell_type": "code",
   "execution_count": null,
   "metadata": {},
   "outputs": [],
   "source": [
    "class Persona: #se define la clase\n",
    "    def __init__(self, name): #definimos el metodo __init__ que es el constructor de la clase\n",
    "        self.name = name #se define el atributo name de la clase\n",
    "persona = Persona(\"Mercedes\") #objeto de la clase Persona\n",
    "print(persona.name) #se imprime el atributo name del objeto persona\n",
    "persona2 = Persona(\"Juan\")\n",
    "print(persona2.name)"
   ]
  },
  {
   "cell_type": "code",
   "execution_count": null,
   "metadata": {},
   "outputs": [],
   "source": [
    "class Perro:\n",
    "    def __init__(self, raza, nombre):\n",
    "        self.raza = raza\n",
    "        self.nombre = nombre\n",
    "        print(\"Se ha creado el objeto de la clase Perro\")\n",
    "    def ladrar(self):\n",
    "        print(\"Guau guau\")\n",
    "husky1 = Perro(\"Husky\", \"Cersei\")\n",
    "husky2 = Perro(\"Husky\", \"Lobo\")\n",
    "print(husky1.raza, husky1.nombre)\n",
    "print(husky2.raza, husky2.nombre)\n",
    "print(f\"Mi primer husky tiene el nombre de: {husky1.nombre}\") #formato de caracteres\n",
    "husky2.ladrar() #se llama al metodo ladrar de la clase Perro\n",
    "# Para actualizar el valor de un atributo se hace de la siguiente manera\n",
    "husky2.nombre = \"Lobo lobin lobon el más guapeton!!\"\n",
    "print(f\"El nombre de mi segundo husky es: {husky2.nombre}\")"
   ]
  },
  {
   "cell_type": "code",
   "execution_count": null,
   "metadata": {},
   "outputs": [],
   "source": [
    "class Persona:\n",
    "    def __init__(self, nombre):\n",
    "        self.nombre = nombre\n",
    "        self.casa = None\n",
    "    def adquirir_casa(self, casa):\n",
    "        self.casa = casa\n",
    "        casa.asignar_propietario(self)\n",
    "        print(\"Tengo casa nueva\")\n",
    "    def vender_casa(self, persona):\n",
    "        self.adquirir_casa(self.casa)\n",
    "        print(\"La casa ha sido vendida\")\n",
    "        self.casa = None\n",
    "    def mostrar_casa(self):\n",
    "        if self.casa:\n",
    "            return self.casa.direccion\n",
    "        else:\n",
    "            return \"No ha adquirido casa\"\n"
   ]
  },
  {
   "cell_type": "code",
   "execution_count": null,
   "metadata": {},
   "outputs": [],
   "source": [
    "class Casa:\n",
    "    def __init__(self, direccion, propietario=None):\n",
    "        self.direccion = direccion\n",
    "        self.propietario = None \n",
    "        print(\"Casa construida\")\n",
    "    def asignar_propietario(self, propietario):\n",
    "        self.propietario = propietario\n",
    "    def ver_propietario(self):\n",
    "        if self.propietario:\n",
    "            return self.propietario.nombre\n",
    "        else:\n",
    "            return \"No tiene propietario\"\n",
    "## Creamos dos personas y un a casa\n",
    "#casa\n",
    "casa = Casa(\"Calle Fake Dir 123\")\n",
    "print(f\"Propietario de la casa: {casa.ver_propietario()}. Direccion: {casa.direccion}\")\n",
    "#vendedor\n",
    "vendedor = Persona(\"Juan\")\n",
    "print(f\"Nombre del vendedor: {vendedor.nombre}. Casa: {vendedor.mostrar_casa()}. Casa inicial: {vendedor.mostrar_casa()}\")\n",
    "vendedor.adquirir_casa(casa)\n",
    "print(f\"Nombre del vendedor: {vendedor.nombre}. Casa: {vendedor.mostrar_casa()}. Casa inicial: {vendedor.mostrar_casa()}\")\n",
    "#comprador\n",
    "comprador = Persona(\"Mercedes\")\n",
    "print(f\"Nombre del comprador: {comprador.nombre}. Casa inicial: {comprador.mostrar_casa()}.\")\n",
    "vendedor.vender_casa(comprador)\n",
    "print(f\"Casa: {vendedor.mostrar_casa()}.\")\n",
    "#comprobamos que alñ casa tenga propietario correcto\n",
    "print(f\"Propietario de la casa: {casa.ver_propietario()}.\")\n"
   ]
  },
  {
   "cell_type": "markdown",
   "metadata": {},
   "source": [
    "## Ejercicio 1\n",
    "El sistema contará con tres clases, Cliente, Banco, Cuenta.\n",
    "\n",
    "La clase Cliente cuenta con las siguientes propiedades:\n",
    "- Nombre. Se recibe al momento de crear el objeto.\n",
    "- Cuenta. Se recibe al momento de crear el objeto.\n",
    "\n",
    "Además de contar con los siguientes métodos:\n",
    "- Revisar saldo. Recibe un objeto de tipo banco y el número de cuenta y devuelve el saldo del cliente.\n",
    "- Depositar. Recibe el monto a depositar y un objeto de tipo banco. Muestra un mensaje cuando se realizó la transacción.\n",
    "- Retirar. Recibe el monto a retirar y un objeto de tipo banco. Muestra un mensaje de confirmación y el monto retirado.\n",
    "\n",
    "La clase Banco va a ser el intermediario entre el cliente y su cuenta. Contará con las siguientes propiedades.\n",
    "- Nombre. Se recibe al momento de crear el objeto.\n",
    "Además de contar con los siguientes métodos:\n",
    "- Revisar saldo. Recibe un objeto de tipo banco y el número de cuenta y devuelve el saldo del cliente.\n",
    "- Depositar. Recibe el monto a depositar y un objeto de tipo banco. Muestra un mensaje cuando se realizó la transacción.\n",
    "- Retirar. Recibe el monto a retirar y un objeto de tipo banco. Muestra un mensaje de confirmación y el monto retirado.\n",
    "\n",
    "La clase cuenta debe contar con las siguientes propiedades:\n",
    "- Monto total. Guarda la cantidad de dinero que tiene la persona.\n",
    "\n",
    "Además de contar con los siguientes métodos:\n",
    "- Retirar. Recibe el monto a retirar y regresa el nuevo monto.\n",
    "- Depositar. Recibe el monto a depositar y muestra un mensaje diciendo el nuevo monto.\n",
    "- Revisar saldo. Regresa el monto de la cuenta."
   ]
  },
  {
   "cell_type": "code",
   "execution_count": null,
   "metadata": {},
   "outputs": [],
   "source": [
    "class Cuenta:\n",
    "    def __init__(self, numero):\n",
    "        self.monto_total = 0\n",
    "        self.numero = numero\n",
    "    def retirar(self, monto):\n",
    "        self.monto_total = self.monto_total - monto\n",
    "        print(f\"Su saldo actualizado es: {self.monto_total}\")\n",
    "        return monto\n",
    "    def depositar(self, monto):\n",
    "        self.monto_total = self.monto_total + monto\n",
    "        print(f\"Su saldo actualizado es: {self.monto_total}\")\n",
    "        return None \n",
    "    def revisar_saldo(self):\n",
    "        return self.monto_total"
   ]
  },
  {
   "cell_type": "code",
   "execution_count": null,
   "metadata": {},
   "outputs": [],
   "source": [
    "class Banco:\n",
    "    def __init__(self, nombre):\n",
    "        self.nombre = nombre\n",
    "        self.cuenta = None \n",
    "    def abrir_cuenta(self, cuenta):\n",
    "        self.cuenta = Cuenta(cuenta)\n",
    "        return True\n",
    "    def retirar(self, cuenta, monto):\n",
    "        if cuenta == self.cuenta.numero:\n",
    "            return self.cuenta.retirar(monto)\n",
    "    def depositar(self, cuenta, monto):\n",
    "        if cuenta == self.cuenta.numero:\n",
    "            self.cuenta.depositar(monto)\n",
    "    def revisar_saldo(self, cuenta):\n",
    "        if cuenta == self.cuenta.numero:\n",
    "            return self.cuenta.revisar_saldo()"
   ]
  },
  {
   "cell_type": "code",
   "execution_count": null,
   "metadata": {},
   "outputs": [],
   "source": [
    "class Cliente:\n",
    "    def __init__(self, nombre, cuenta):\n",
    "        self.nombre = nombre\n",
    "        self.cuenta = cuenta\n",
    "    def revisar_saldo(self,banco):\n",
    "        saldo = banco.revisar_saldo(self.cuenta)\n",
    "        return saldo\n",
    "    def depositar(self, banco, monto):\n",
    "        respuesta = banco.depositar(self.cuenta, monto)\n",
    "        return respuesta\n",
    "    def retirar(self, banco, monto):\n",
    "        respuesta = banco.retirar(self.cuenta, monto)\n",
    "        return respuesta "
   ]
  },
  {
   "cell_type": "code",
   "execution_count": 46,
   "metadata": {},
   "outputs": [
    {
     "name": "stdout",
     "output_type": "stream",
     "text": [
      "Su saldo actualizado es: 2300\n"
     ]
    }
   ],
   "source": [
    "mi_banco = Banco(\"Mi banco MAC\")\n",
    "cliente = Cliente(\"Mercedes\", 123)\n",
    "mi_banco.abrir_cuenta(cliente.cuenta)\n",
    "cliente.depositar(mi_banco, 2300)\n"
   ]
  },
  {
   "cell_type": "code",
   "execution_count": 47,
   "metadata": {},
   "outputs": [
    {
     "name": "stdout",
     "output_type": "stream",
     "text": [
      "El saldo de la cuenta es: 2300\n"
     ]
    }
   ],
   "source": [
    "#Revisamos saldo\n",
    "respuesta = cliente.revisar_saldo(mi_banco)\n",
    "print(f\"El saldo de la cuenta es: {respuesta}\")"
   ]
  },
  {
   "cell_type": "code",
   "execution_count": 48,
   "metadata": {},
   "outputs": [
    {
     "name": "stdout",
     "output_type": "stream",
     "text": [
      "Su saldo actualizado es: 1800\n",
      "El retiro fue de: 500\n"
     ]
    }
   ],
   "source": [
    "#Retirar dinero\n",
    "respuesta = cliente.retirar(mi_banco, 500)\n",
    "print(f\"El retiro fue de: {respuesta}\")"
   ]
  }
 ],
 "metadata": {
  "kernelspec": {
   "display_name": "Python 3",
   "language": "python",
   "name": "python3"
  },
  "language_info": {
   "codemirror_mode": {
    "name": "ipython",
    "version": 3
   },
   "file_extension": ".py",
   "mimetype": "text/x-python",
   "name": "python",
   "nbconvert_exporter": "python",
   "pygments_lexer": "ipython3",
   "version": "3.11.8"
  }
 },
 "nbformat": 4,
 "nbformat_minor": 2
}
