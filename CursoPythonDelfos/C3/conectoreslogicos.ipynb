{
 "cells": [
  {
   "cell_type": "code",
   "execution_count": null,
   "metadata": {},
   "outputs": [],
   "source": [
    "#valores de verdad\n",
    "verdadero = True\n",
    "falsito = False\n",
    "print(\"Valor:\", verdadero, \"Tipo:\", type(verdadero))\n",
    "print(\"Valor:\", falsito, \"Tipo:\", type(falsito))\n"
   ]
  },
  {
   "cell_type": "code",
   "execution_count": null,
   "metadata": {},
   "outputs": [],
   "source": [
    "# Operadores\n",
    "#not\n",
    "negacion_verdadero = not True\n",
    "negacion_falso = not False\n",
    "print(\"Valor:\", negacion_verdadero, \"Tipo:\", type(negacion_verdadero))\n",
    "print(\"Valor:\", negacion_falso, \"Tipo:\", type(negacion_falso))"
   ]
  },
  {
   "cell_type": "code",
   "execution_count": null,
   "metadata": {},
   "outputs": [],
   "source": [
    "#igualdad\n",
    "esto_es_verdad = True\n",
    "esto_tambien_es_verdad = True\n",
    "\n",
    "compare_trues = esto_es_verdad == esto_tambien_es_verdad\n",
    "print(\"Valor:\", compare_trues, \"Tipo:\", type(compare_trues))"
   ]
  },
  {
   "cell_type": "code",
   "execution_count": null,
   "metadata": {},
   "outputs": [],
   "source": [
    "nombre_mayusculas = 'MERCEDES'\n",
    "nombre_minusculas = 'mercedes'\n",
    "\n",
    "son_iguales = nombre_mayusculas == nombre_minusculas\n",
    "\n",
    "print('¿Son iguales?', son_iguales)"
   ]
  },
  {
   "cell_type": "code",
   "execution_count": null,
   "metadata": {},
   "outputs": [],
   "source": [
    "acento = 'Papá'\n",
    "no_acento = 'Papa'\n",
    "son_iguales = acento == no_acento\n",
    "print('¿Son iguales?', son_iguales)"
   ]
  },
  {
   "cell_type": "code",
   "execution_count": null,
   "metadata": {},
   "outputs": [],
   "source": [
    "edad_minima = 18\n",
    "mi_edad = 18\n",
    "\n",
    "son_iguales = edad_minima == mi_edad\n",
    "print('¿Son iguales?', son_iguales)"
   ]
  },
  {
   "cell_type": "code",
   "execution_count": null,
   "metadata": {},
   "outputs": [],
   "source": []
  }
 ],
 "metadata": {
  "kernelspec": {
   "display_name": "Python 3",
   "language": "python",
   "name": "python3"
  },
  "language_info": {
   "name": "python",
   "version": "3.12.1"
  }
 },
 "nbformat": 4,
 "nbformat_minor": 2
}
