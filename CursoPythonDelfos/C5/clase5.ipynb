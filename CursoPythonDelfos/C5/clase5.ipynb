{
 "cells": [
  {
   "cell_type": "markdown",
   "metadata": {},
   "source": [
    "# Primer ejercicio\n",
    "## Instrucciones:\n",
    "Crear una función que reciba como parámetro un número que representa el número de veces que se va a ejecutar lo siguiente:\n",
    "- Pedir al usuario una cadena de caracteres\n",
    "- Convertir la cadena de caracteres a mayusculas\n",
    "- Obtener el numero de elementos que tiene dicha cadena de caracteres\n",
    "- Guardar en una tupla la cadena de caracteres en mayusculas y la longitud de dicha cadena\n",
    "- Guardar la tupla obtenida en el paso anterior en una lista.\n",
    "- Al final de las iteraciones imprimir la lista resultante"
   ]
  },
  {
   "cell_type": "code",
   "execution_count": null,
   "metadata": {},
   "outputs": [],
   "source": [
    "\n",
    "def funcion(num_its):\n",
    "  lista=[]\n",
    "  for i in range(num_its):\n",
    "    user = input(\"Ingresa una cadena\")\n",
    "    uppercase_string = user.upper()\n",
    "    string_len = len(user)\n",
    "    resultado_tup = (uppercase_string, string_len)\n",
    "    lista.append(resultado_tup)\n",
    "    \n",
    "    print(lista)\n",
    "funcion(3)"
   ]
  },
  {
   "cell_type": "code",
   "execution_count": null,
   "metadata": {},
   "outputs": [],
   "source": [
    "# la diferencia con el de arriba es que este tiene un parametro que se le pasa al llamar la funcion, \n",
    "# y el de arriba no tiene parametros, solo se llama la funcion y ya\n",
    "def funcion():\n",
    "  lista=[]\n",
    "  for i in range(4):\n",
    "    user = input(\"Ingresa una cadena\")\n",
    "    uppercase_string = user.upper()\n",
    "    string_len = len(user)\n",
    "    resultado_tup = (uppercase_string, string_len)\n",
    "    lista.append(resultado_tup)\n",
    "    \n",
    "    print(lista)\n",
    "funcion()"
   ]
  },
  {
   "cell_type": "markdown",
   "metadata": {},
   "source": [
    "## Ejercicio 2\n",
    "\n",
    "Crear un programa interactivo, que se esté ejecutando hasta que el usuario ingrese la cadena de caracteres SALIR.\n",
    "En cada iteración se mostrará el siguiente menú:\n",
    "- 1.- Saludar\n",
    "- 2.- Agregar producto al carrito\n",
    "- 3.- Ver carrito.\n",
    "- SALIR\n",
    "\n",
    "De tal forma que la opción 1 muestre el mensaje \"Buenos días\".\n",
    "La opción 2 le pide al usuario escribir el nombre de algún producto (lo que sea) y lo agrega a una lista.\n",
    "La opción 3 muestra el contenido de esa lista.\n",
    "\n",
    "Al ingresar SALIR se debe mostrar el carrito y mostrar un mensaje de despedida.\n",
    "\n",
    "Consejo: Usar while para mostrar el menú en repetidas ocasiones.\n",
    "Consejo: Crea dos funciones, una para ejecutar el programa y otra cuya única finalidad sea mostrar el menú."
   ]
  },
  {
   "cell_type": "code",
   "execution_count": null,
   "metadata": {},
   "outputs": [],
   "source": [
    "def programa():\n",
    "    carrito = []\n",
    "\n",
    "    def mostrar_menu():\n",
    "        print(\"1.- Saludar\")\n",
    "        print(\"2.- Agregar producto al carrito\")\n",
    "        print(\"3.- Ver carrito\")\n",
    "        print(\"SALIR\")\n",
    "\n",
    "    def saludar():\n",
    "        print(\"Buenos días\")\n",
    "\n",
    "    def agregar_producto():\n",
    "        producto = input(\"Ingresa el nombre del producto: \")\n",
    "        carrito.append(producto)\n",
    "        print(\"Producto agregado al carrito.\")\n",
    "\n",
    "    def ver_carrito():\n",
    "        if len(carrito) == 0:\n",
    "            print(\"El carrito está vacío.\")\n",
    "        else:\n",
    "            print(\"Contenido del carrito:\")\n",
    "            for producto in carrito:\n",
    "                print(producto)\n",
    "\n",
    "    while True:\n",
    "        mostrar_menu()\n",
    "        opcion = input(\"Ingresa una opción: \")\n",
    "\n",
    "        if opcion == \"1\":\n",
    "            saludar()\n",
    "        elif opcion == \"2\":\n",
    "            agregar_producto()\n",
    "        elif opcion == \"3\":\n",
    "            ver_carrito()\n",
    "        elif opcion.upper() == \"SALIR\":\n",
    "            print(\"Contenido final del carrito:\")\n",
    "            ver_carrito()\n",
    "            print(\"¡Hasta luego!\")\n",
    "            break\n",
    "        else:\n",
    "            print(\"Opción inválida. Por favor, intenta de nuevo.\")\n",
    "\n",
    "programa()"
   ]
  },
  {
   "cell_type": "markdown",
   "metadata": {},
   "source": [
    "# DICCIONARIOS"
   ]
  },
  {
   "cell_type": "code",
   "execution_count": null,
   "metadata": {},
   "outputs": [],
   "source": [
    "dic_vacio = {}\n",
    "print(\"Diccionario vacío:\", dic_vacio, \"\\nLongitud: \", len(dic_vacio), \"\\nEl tipo es:\" ,type(dic_vacio))\n"
   ]
  },
  {
   "cell_type": "code",
   "execution_count": null,
   "metadata": {},
   "outputs": [],
   "source": [
    "# diccionario con un elemento\n",
    "diccionario1 = {\"nombre\":\"Mercedes\"}\n",
    "print(\"Diccionario\", diccionario1, \"Longitud\", len(diccionario1), \"Tipo\", type(diccionario1))"
   ]
  },
  {
   "cell_type": "code",
   "execution_count": null,
   "metadata": {},
   "outputs": [],
   "source": [
    "# diccionario con varios elementos\n",
    "## NOTA: Los elementos de un diccionario se separan por comas y cada elemento se compone de una llave y un valor\n",
    "diccionario2 = {\"nombre\":\"Mercedes\", \"edad\":22, \"carrera\":\"Ing. Sistemas Computacionales\"}\n",
    "print(\"Diccionario\", diccionario2, \"Longitud\", len(diccionario2), \"Tipo\", type(diccionario2))"
   ]
  },
  {
   "cell_type": "code",
   "execution_count": null,
   "metadata": {},
   "outputs": [
    {
     "name": "stdout",
     "output_type": "stream",
     "text": [
      "Diccionario {'nombre': 'Mercedes'} Longitud 1 Tipo <class 'dict'>\n"
     ]
    }
   ],
   "source": [
    "alumno = {\"nombre\":\"Mercedes\", \"edad\":22, \"carrera\":\"Ing. Sistemas Computacionales\"}\n",
    "nombre_alumno = alumno[\"nombre\"]\n",
    "print(alumno[nombre_alumno])"
   ]
  },
  {
   "cell_type": "code",
   "execution_count": 1,
   "metadata": {},
   "outputs": [
    {
     "name": "stdout",
     "output_type": "stream",
     "text": [
      "{'matricula': 123456, 'nombre': 'Mercedes', 'edad': 28, 'carrera': 'Ing. Sistemas Computacionales', 'materias': ['Cálculo', 'Física', 'Química'], 'calificaciones': {'Cálculo': 9, 'Física': 8, 'Química': 10}}\n"
     ]
    }
   ],
   "source": [
    "alumno ={\n",
    "    \"matricula\": 123456,\n",
    "    \"nombre\":\"Mercedes\",\n",
    "    \"edad\":28,\n",
    "    \"carrera\":\"Ing. Sistemas Computacionales\",\n",
    "    \"materias\": [\"Cálculo\", \"Física\", \"Química\"],\n",
    "    \"calificaciones\": {\"Cálculo\": 9, \"Física\": 8, \"Química\": 10}\n",
    "}\n",
    "print(alumno)"
   ]
  }
 ],
 "metadata": {
  "kernelspec": {
   "display_name": "Python 3",
   "language": "python",
   "name": "python3"
  },
  "language_info": {
   "codemirror_mode": {
    "name": "ipython",
    "version": 3
   },
   "file_extension": ".py",
   "mimetype": "text/x-python",
   "name": "python",
   "nbconvert_exporter": "python",
   "pygments_lexer": "ipython3",
   "version": "3.11.8"
  }
 },
 "nbformat": 4,
 "nbformat_minor": 2
}
