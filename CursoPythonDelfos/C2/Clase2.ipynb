{
 "cells": [
  {
   "cell_type": "code",
   "execution_count": 1,
   "metadata": {},
   "outputs": [
    {
     "name": "stdout",
     "output_type": "stream",
     "text": [
      "La longitud de la hipotenusa es: 9.433981132056603\n"
     ]
    }
   ],
   "source": [
    "\"\"\"  \n",
    "Longitud de la hipotenusa de un triangulo rectangulo conociendo los catetos \n",
    "\n",
    "\"\"\"\n",
    "\n",
    "a = 5\n",
    "b = 8\n",
    "\n",
    "a_cuadrada = a ** 2\n",
    "b_cuadrada = b ** 2\n",
    "\n",
    "suma = a_cuadrada + b_cuadrada\n",
    "c = suma ** 0.5\n",
    "\n",
    "print(\"La longitud de la hipotenusa es:\", c)"
   ]
  },
  {
   "cell_type": "code",
   "execution_count": 2,
   "metadata": {},
   "outputs": [
    {
     "name": "stdout",
     "output_type": "stream",
     "text": [
      "La longitud de la hipotenusa es: 7.810249675906654\n"
     ]
    }
   ],
   "source": [
    "\"\"\"\n",
    "Otra forma de resolver el ejercicio anterior\n",
    "\"\"\"\n",
    "a = int(input(\"Introduce el valor del cateto 'a': \"))\n",
    "b = int(input(\"Introduce el valor del cateto 'b': \"))\n",
    "\n",
    "a_cuadrada = a ** 2\n",
    "b_cuadrada = b ** 2\n",
    "\n",
    "sum = a_cuadrada + b_cuadrada\n",
    "c = sum ** 0.5\n",
    "print(\"La longitud de la hipotenusa es:\", c)"
   ]
  },
  {
   "cell_type": "markdown",
   "metadata": {},
   "source": [
    "# Ejercicio\n",
    "## Escribir un algoritmo que permita obtener el área de un triangulo cualquiera usando la formula de heron\n",
    "$$ area =1/4 \\sqrt{(a^2 + b^2 + c^2)^2 - 2 (a^4 + b^4 + c^4)}$$\n",
    "## Esta formula permite calcular el área de cualquier rectángulo, aún si no es rectángulo, conociendo la longitud de sus lados."
   ]
  },
  {
   "cell_type": "code",
   "execution_count": 4,
   "metadata": {},
   "outputs": [
    {
     "name": "stdout",
     "output_type": "stream",
     "text": [
      "El área del triángulo es: 19.8997487421324\n"
     ]
    }
   ],
   "source": [
    "import math\n",
    "\n",
    "# Valor de las longitudes de los lados del triángulo\n",
    "a = 8\n",
    "b = 5\n",
    "c = 9\n",
    "\n",
    "# Calcular el semiperímetro del triángulo\n",
    "s = (a + b + c) / 2\n",
    "\n",
    "# Calcular el área utilizando la fórmula de Herón\n",
    "area = math.sqrt(s * (s - a) * (s - b) * (s - c))\n",
    "\n",
    "# Imprimir el resultado\n",
    "print(\"El área del triángulo es:\", area)\n"
   ]
  },
  {
   "cell_type": "markdown",
   "metadata": {},
   "source": [
    "# Ejercicio 2\n",
    "\n",
    "Escribir un algoritmo que permita obtener la distancia entre dos puntos, en el plano, conociendo sus coordenadas.\n",
    "\n",
    "La fórmula para obtener la distancia entre dos puntos se parece mucho al teorema de Pitágoras y es la siguiente:\n",
    "\n",
    "$$d_{ab} = \\sqrt{(a_1 - b_1)^2 + (a_2 - b_2)^2}$$\n",
    "\n",
    "Donde $d_{ab}$ es la distancia entre los puntos $a$ y $b$, $a_1$ es la primer coordenada del punto $a$, $a_2$ es la segunda coordenada del punto $a$ y de manera similar con el punto $b$"
   ]
  },
  {
   "cell_type": "code",
   "execution_count": 8,
   "metadata": {},
   "outputs": [
    {
     "name": "stdout",
     "output_type": "stream",
     "text": [
      "La distancia es:  4.47213595499958\n"
     ]
    }
   ],
   "source": [
    "import math\n",
    "\n",
    "# Coordenadas para puntos a\n",
    "a1 = 8\n",
    "a2 = 9\n",
    "\n",
    "# Coordenadas para puntos b\n",
    "b1 = 6\n",
    "b2 = 5\n",
    "\n",
    "# Calcular la distancia\n",
    "distance = math.sqrt((a1 - b1)**2 + (a2 - b2)**2)\n",
    "\n",
    "# Resultado final\n",
    "print(\"La distancia es: \", distance)\n"
   ]
  },
  {
   "cell_type": "code",
   "execution_count": 9,
   "metadata": {},
   "outputs": [
    {
     "name": "stdout",
     "output_type": "stream",
     "text": [
      "La distancia es:  4.47213595499958\n"
     ]
    }
   ],
   "source": [
    "a1 = 8\n",
    "b1 = 6\n",
    "a2 = 9\n",
    "b2 = 5\n",
    "\n",
    "# Calcular la distancia\n",
    "distance = ((a1 - b1)**2 + (a2 - b2)**2)**0.5\n",
    "print(\"La distancia es: \", distance)"
   ]
  },
  {
   "cell_type": "markdown",
   "metadata": {},
   "source": [
    "# Ejercicio 3\n",
    "\n",
    "Escribir un algoritmo que permita obtener el ángulo entre la hipotenusa de un triángulo rectángulo y algun otro cateto conociendo la longitud de los catetos.\n",
    "\n",
    "La fórmula para obtener dicho ángulo es:\n",
    "\n",
    "$$\\alpha = \\text{arctan}(\\frac{a}{b})$$\n",
    "\n",
    "Donde $\\alpha$ es el ángulo deseado, $a$ es el cateto opuesto a dicho ángulo y $b$ es el cateto adyacente a dicho ángulo.\n",
    "\n",
    "Mostrar el resultado en grados y en radianes."
   ]
  },
  {
   "cell_type": "code",
   "execution_count": 11,
   "metadata": {},
   "outputs": [
    {
     "name": "stdout",
     "output_type": "stream",
     "text": [
      "El ángulo es: 45.0 grados\n",
      "El ángulo es: 0.7853981633974483 radianes\n"
     ]
    }
   ],
   "source": [
    "import math\n",
    "\n",
    "# Ingresar los valores de los lados del triángulo\n",
    "a = 1\n",
    "b = 1\n",
    "\n",
    "# Calcular el ángulo en radianes\n",
    "alpha_rad = math.atan(a / b)\n",
    "\n",
    "# Convertir el ángulo a grados\n",
    "alpha_deg = math.degrees(alpha_rad)\n",
    "\n",
    "# Imprimir el resultado\n",
    "print(\"El ángulo es:\", alpha_deg, \"grados\")\n",
    "print(\"El ángulo es:\", alpha_rad, \"radianes\")\n",
    "#Formula \n",
    "\n"
   ]
  }
 ],
 "metadata": {
  "kernelspec": {
   "display_name": "Python 3",
   "language": "python",
   "name": "python3"
  },
  "language_info": {
   "codemirror_mode": {
    "name": "ipython",
    "version": 3
   },
   "file_extension": ".py",
   "mimetype": "text/x-python",
   "name": "python",
   "nbconvert_exporter": "python",
   "pygments_lexer": "ipython3",
   "version": "3.12.1"
  }
 },
 "nbformat": 4,
 "nbformat_minor": 2
}
