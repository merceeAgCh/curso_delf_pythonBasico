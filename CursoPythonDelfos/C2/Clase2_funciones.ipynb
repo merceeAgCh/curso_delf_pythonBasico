{
 "cells": [
  {
   "cell_type": "markdown",
   "metadata": {},
   "source": [
    "# Funciones"
   ]
  },
  {
   "cell_type": "code",
   "execution_count": 1,
   "metadata": {},
   "outputs": [
    {
     "name": "stdout",
     "output_type": "stream",
     "text": [
      "Mercedes\n"
     ]
    }
   ],
   "source": [
    "# primer función sin argumentos\n",
    "def mi_nombre():\n",
    "    print(\"Mercedes\")\n",
    "mi_nombre()"
   ]
  },
  {
   "cell_type": "code",
   "execution_count": 4,
   "metadata": {},
   "outputs": [
    {
     "name": "stdout",
     "output_type": "stream",
     "text": [
      "25\n"
     ]
    }
   ],
   "source": [
    "# Función con retorno de valor\n",
    "def mi_edad():\n",
    "    return 25\n",
    "edad = mi_edad()\n",
    "print(edad)"
   ]
  },
  {
   "cell_type": "code",
   "execution_count": 6,
   "metadata": {},
   "outputs": [
    {
     "name": "stdout",
     "output_type": "stream",
     "text": [
      "8\n"
     ]
    }
   ],
   "source": [
    "# Función con argumentos y retorno de valor\n",
    "def sumita(a, b):\n",
    "    res = a + b # guarda el resultado de la suma en la variable res\n",
    "    return res # guarda la operación en la variable res\n",
    "resultado = sumita(5, 3) # le asigno valores a los argumentos\n",
    "print(resultado) # imprimo el resultado de la operación"
   ]
  },
  {
   "cell_type": "code",
   "execution_count": 12,
   "metadata": {},
   "outputs": [
    {
     "name": "stdout",
     "output_type": "stream",
     "text": [
      "Velocidad Calculada\n",
      "Flash es veloz, así como mi operación... \n",
      "El resultado es:  10.0\n"
     ]
    }
   ],
   "source": [
    "def velocidad_sin_aceleracion(distancia, tiempo):\n",
    "    velocidad = distancia / tiempo\n",
    "    print(\"Velocidad Calculada\")\n",
    "    return velocidad\n",
    "miFlash = velocidad_sin_aceleracion(100, 10)\n",
    "print(\"Flash es veloz, así como mi operación... \\nEl resultado es: \",miFlash)"
   ]
  }
 ],
 "metadata": {
  "kernelspec": {
   "display_name": "Python 3",
   "language": "python",
   "name": "python3"
  },
  "language_info": {
   "codemirror_mode": {
    "name": "ipython",
    "version": 3
   },
   "file_extension": ".py",
   "mimetype": "text/x-python",
   "name": "python",
   "nbconvert_exporter": "python",
   "pygments_lexer": "ipython3",
   "version": "3.11.4"
  }
 },
 "nbformat": 4,
 "nbformat_minor": 2
}
