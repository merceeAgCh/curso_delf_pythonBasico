# Test case 1
a = 3
b = 5
expected_result = 2
result = ejercicio_2(a, b)
print(f"Test case 1: Expected={expected_result}, Result={result}")
assert result == expected_result, "Test case 1 failed"

# Test case 2
a = 10
b = 7
expected_result = -3
result = ejercicio_2(a, b)
print(f"Test case 2: Expected={expected_result}, Result={result}")
assert result == expected_result, "Test case 2 failed"

# Test case 3
a = -5
b = 2
expected_result = 7
result = ejercicio_2(a, b)
print(f"Test case 3: Expected={expected_result}, Result={result}")
assert result == expected_result, "Test case 3 failed"